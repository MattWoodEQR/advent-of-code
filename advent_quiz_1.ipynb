{
  "metadata": {
    "language_info": {
      "codemirror_mode": {
        "name": "python",
        "version": 3
      },
      "file_extension": ".py",
      "mimetype": "text/x-python",
      "name": "python",
      "nbconvert_exporter": "python",
      "pygments_lexer": "ipython3",
      "version": "3.8"
    },
    "kernelspec": {
      "name": "python",
      "display_name": "Python (Pyodide)",
      "language": "python"
    }
  },
  "nbformat_minor": 4,
  "nbformat": 4,
  "cells": [
    {
      "cell_type": "code",
      "source": "import pandas as pd",
      "metadata": {
        "trusted": true
      },
      "execution_count": 1,
      "outputs": []
    },
    {
      "cell_type": "code",
      "source": "# Read the csv file\ndf = pd.read_csv('advent_quiz_1_data.csv', header=None)\nprint(df.head())",
      "metadata": {
        "trusted": true
      },
      "execution_count": 2,
      "outputs": [
        {
          "name": "stdout",
          "text": "                                     0\n0                     sq5fivetwothree1\n1                               six5gc\n2     txb3qfzsbzbxlzslfourone1vqxgfive\n3                        3onethreebrth\n4  cseven7nqqxnkzngndtddfiverkxkxqjjsr\n",
          "output_type": "stream"
        }
      ]
    },
    {
      "cell_type": "code",
      "source": "df[1] = df[0].str.extract('(\\d)')",
      "metadata": {
        "trusted": true
      },
      "execution_count": 3,
      "outputs": []
    },
    {
      "cell_type": "code",
      "source": "df[2] = df[0].str[::-1]\ndf[3] = df[2].str.extract('(\\d)')",
      "metadata": {
        "trusted": true
      },
      "execution_count": 4,
      "outputs": []
    },
    {
      "cell_type": "code",
      "source": "df[4] = (df[1] + df[3]).astype(int)",
      "metadata": {
        "trusted": true
      },
      "execution_count": 5,
      "outputs": []
    },
    {
      "cell_type": "code",
      "source": "df[4].sum()",
      "metadata": {
        "trusted": true
      },
      "execution_count": 6,
      "outputs": [
        {
          "execution_count": 6,
          "output_type": "execute_result",
          "data": {
            "text/plain": "54331"
          },
          "metadata": {}
        }
      ]
    },
    {
      "cell_type": "code",
      "source": "df[5] = df[0].str.replace('one', 'o1e')\ndf[5] = df[5].str.replace('two', 't2o')\ndf[5] = df[5].str.replace('three', 't3e')\ndf[5] = df[5].str.replace('four', 'f4r')\ndf[5] = df[5].str.replace('five', 'f5e')\ndf[5] = df[5].str.replace('six', 's6x')\ndf[5] = df[5].str.replace('seven', 's7n')\ndf[5] = df[5].str.replace('eight', 'e8t')\ndf[5] = df[5].str.replace('nine', 'n9e')",
      "metadata": {
        "trusted": true
      },
      "execution_count": 7,
      "outputs": []
    },
    {
      "cell_type": "code",
      "source": "df[6] = df[5].str.extract('(\\d)')\ndf[7] = df[5].str[::-1]\ndf[8] = df[7].str.extract('(\\d)')",
      "metadata": {
        "trusted": true
      },
      "execution_count": 8,
      "outputs": []
    },
    {
      "cell_type": "code",
      "source": "df[9] = (df[6] + df[8]).astype(int)",
      "metadata": {
        "trusted": true
      },
      "execution_count": 9,
      "outputs": []
    },
    {
      "cell_type": "code",
      "source": "df.head(20)",
      "metadata": {
        "trusted": true
      },
      "execution_count": 10,
      "outputs": [
        {
          "execution_count": 10,
          "output_type": "execute_result",
          "data": {
            "text/plain": "                                      0  1  \\\n0                      sq5fivetwothree1  5   \n1                                six5gc  5   \n2      txb3qfzsbzbxlzslfourone1vqxgfive  3   \n3                         3onethreebrth  3   \n4   cseven7nqqxnkzngndtddfiverkxkxqjjsr  7   \n5                              2lvpmzh4  2   \n6                      threeqxqndvjrz15  1   \n7           threetwo1drtzsixtwofourppvg  1   \n8            zxhsndseven2vbnhdtfpr3bt86  2   \n9            onethreelqqqqvj7eightnine5  7   \n10                     7sevenfour5gnine  7   \n11                              1seven5  1   \n12                   vgxhqfrvr7vfsxqms3  7   \n13              twokdkcbhtqxfc87rkgctwo  8   \n14              twosix9threernltgbffour  9   \n15                    npvzzqfb5tbbn4cnt  5   \n16             jjxlckssjmdkm5szklnq1two  5   \n17              lblcscglvseven53251zzcj  5   \n18                  threesevenzplpzlqb1  1   \n19                threeeightxhrkflkbzp2  2   \n\n                                      2  3   4  \\\n0                      1eerhtowtevif5qs  1  51   \n1                                cg5xis  5  55   \n2      evifgxqv1enoruoflszlxbzbszfq3bxt  1  31   \n3                         htrbeerhteno3  3  33   \n4   rsjjqxkxkrevifddtdngnzknxqqn7nevesc  7  77   \n5                              4hzmpvl2  4  24   \n6                      51zrjvdnqxqeerht  5  15   \n7           gvppruofowtxisztrd1owteerht  1  11   \n8            68tb3rpftdhnbv2nevesdnshxz  6  26   \n9            5eninthgie7jvqqqqleerhteno  5  75   \n10                     ening5ruofneves7  5  75   \n11                              5neves1  5  15   \n12                   3smqxsfv7rvrfqhxgv  3  73   \n13              owtcgkr78cfxqthbckdkowt  7  87   \n14              ruoffbgtlnreerht9xisowt  9  99   \n15                    tnc4nbbt5bfqzzvpn  4  54   \n16             owt1qnlkzs5mkdmjsskclxjj  1  51   \n17              jczz15235nevesvlgcsclbl  1  51   \n18                  1bqlzplpzneveseerht  1  11   \n19                2pzbklfkrhxthgieeerht  2  22   \n\n                                   5  6                                 7  8  \\\n0                      sq5f5et2ot3e1  5                     1e3to2te5f5qs  1   \n1                             s6x5gc  6                            cg5x6s  5   \n2     txb3qfzsbzbxlzslf4ro1e1vqxgf5e  3    e5fgxqv1e1or4flszlxbzbszfq3bxt  5   \n3                        3o1et3ebrth  3                       htrbe3te1o3  3   \n4   cs7n7nqqxnkzngndtddf5erkxkxqjjsr  7  rsjjqxkxkre5fddtdngnzknxqqn7n7sc  5   \n5                           2lvpmzh4  2                          4hzmpvl2  4   \n6                     t3eqxqndvjrz15  3                    51zrjvdnqxqe3t  5   \n7           t3et2o1drtzs6xt2of4rppvg  3          gvppr4fo2tx6sztrd1o2te3t  4   \n8           zxhsnds7n2vbnhdtfpr3bt86  7          68tb3rpftdhnbv2n7sdnshxz  6   \n9              o1et3elqqqqvj7e8tn9e5  1             5e9nt8e7jvqqqqle3te1o  5   \n10                      7s7nf4r5gn9e  7                      e9ng5r4fn7s7  9   \n11                             1s7n5  1                             5n7s1  5   \n12                vgxhqfrvr7vfsxqms3  7                3smqxsfv7rvrfqhxgv  3   \n13           t2okdkcbhtqxfc87rkgct2o  2           o2tcgkr78cfxqthbckdko2t  2   \n14              t2os6x9t3ernltgbff4r  2              r4ffbgtlnre3t9x6so2t  4   \n15                 npvzzqfb5tbbn4cnt  5                 tnc4nbbt5bfqzzvpn  4   \n16          jjxlckssjmdkm5szklnq1t2o  5          o2t1qnlkzs5mkdmjsskclxjj  2   \n17             lblcscglvs7n53251zzcj  7             jczz15235n7svlgcsclbl  1   \n18                   t3es7nzplpzlqb1  3                   1bqlzplpzn7se3t  1   \n19                 t3ee8txhrkflkbzp2  3                 2pzbklfkrhxt8ee3t  2   \n\n     9  \n0   51  \n1   65  \n2   35  \n3   33  \n4   75  \n5   24  \n6   35  \n7   34  \n8   76  \n9   15  \n10  79  \n11  15  \n12  73  \n13  22  \n14  24  \n15  54  \n16  52  \n17  71  \n18  31  \n19  32  ",
            "text/html": "<div>\n<style scoped>\n    .dataframe tbody tr th:only-of-type {\n        vertical-align: middle;\n    }\n\n    .dataframe tbody tr th {\n        vertical-align: top;\n    }\n\n    .dataframe thead th {\n        text-align: right;\n    }\n</style>\n<table border=\"1\" class=\"dataframe\">\n  <thead>\n    <tr style=\"text-align: right;\">\n      <th></th>\n      <th>0</th>\n      <th>1</th>\n      <th>2</th>\n      <th>3</th>\n      <th>4</th>\n      <th>5</th>\n      <th>6</th>\n      <th>7</th>\n      <th>8</th>\n      <th>9</th>\n    </tr>\n  </thead>\n  <tbody>\n    <tr>\n      <th>0</th>\n      <td>sq5fivetwothree1</td>\n      <td>5</td>\n      <td>1eerhtowtevif5qs</td>\n      <td>1</td>\n      <td>51</td>\n      <td>sq5f5et2ot3e1</td>\n      <td>5</td>\n      <td>1e3to2te5f5qs</td>\n      <td>1</td>\n      <td>51</td>\n    </tr>\n    <tr>\n      <th>1</th>\n      <td>six5gc</td>\n      <td>5</td>\n      <td>cg5xis</td>\n      <td>5</td>\n      <td>55</td>\n      <td>s6x5gc</td>\n      <td>6</td>\n      <td>cg5x6s</td>\n      <td>5</td>\n      <td>65</td>\n    </tr>\n    <tr>\n      <th>2</th>\n      <td>txb3qfzsbzbxlzslfourone1vqxgfive</td>\n      <td>3</td>\n      <td>evifgxqv1enoruoflszlxbzbszfq3bxt</td>\n      <td>1</td>\n      <td>31</td>\n      <td>txb3qfzsbzbxlzslf4ro1e1vqxgf5e</td>\n      <td>3</td>\n      <td>e5fgxqv1e1or4flszlxbzbszfq3bxt</td>\n      <td>5</td>\n      <td>35</td>\n    </tr>\n    <tr>\n      <th>3</th>\n      <td>3onethreebrth</td>\n      <td>3</td>\n      <td>htrbeerhteno3</td>\n      <td>3</td>\n      <td>33</td>\n      <td>3o1et3ebrth</td>\n      <td>3</td>\n      <td>htrbe3te1o3</td>\n      <td>3</td>\n      <td>33</td>\n    </tr>\n    <tr>\n      <th>4</th>\n      <td>cseven7nqqxnkzngndtddfiverkxkxqjjsr</td>\n      <td>7</td>\n      <td>rsjjqxkxkrevifddtdngnzknxqqn7nevesc</td>\n      <td>7</td>\n      <td>77</td>\n      <td>cs7n7nqqxnkzngndtddf5erkxkxqjjsr</td>\n      <td>7</td>\n      <td>rsjjqxkxkre5fddtdngnzknxqqn7n7sc</td>\n      <td>5</td>\n      <td>75</td>\n    </tr>\n    <tr>\n      <th>5</th>\n      <td>2lvpmzh4</td>\n      <td>2</td>\n      <td>4hzmpvl2</td>\n      <td>4</td>\n      <td>24</td>\n      <td>2lvpmzh4</td>\n      <td>2</td>\n      <td>4hzmpvl2</td>\n      <td>4</td>\n      <td>24</td>\n    </tr>\n    <tr>\n      <th>6</th>\n      <td>threeqxqndvjrz15</td>\n      <td>1</td>\n      <td>51zrjvdnqxqeerht</td>\n      <td>5</td>\n      <td>15</td>\n      <td>t3eqxqndvjrz15</td>\n      <td>3</td>\n      <td>51zrjvdnqxqe3t</td>\n      <td>5</td>\n      <td>35</td>\n    </tr>\n    <tr>\n      <th>7</th>\n      <td>threetwo1drtzsixtwofourppvg</td>\n      <td>1</td>\n      <td>gvppruofowtxisztrd1owteerht</td>\n      <td>1</td>\n      <td>11</td>\n      <td>t3et2o1drtzs6xt2of4rppvg</td>\n      <td>3</td>\n      <td>gvppr4fo2tx6sztrd1o2te3t</td>\n      <td>4</td>\n      <td>34</td>\n    </tr>\n    <tr>\n      <th>8</th>\n      <td>zxhsndseven2vbnhdtfpr3bt86</td>\n      <td>2</td>\n      <td>68tb3rpftdhnbv2nevesdnshxz</td>\n      <td>6</td>\n      <td>26</td>\n      <td>zxhsnds7n2vbnhdtfpr3bt86</td>\n      <td>7</td>\n      <td>68tb3rpftdhnbv2n7sdnshxz</td>\n      <td>6</td>\n      <td>76</td>\n    </tr>\n    <tr>\n      <th>9</th>\n      <td>onethreelqqqqvj7eightnine5</td>\n      <td>7</td>\n      <td>5eninthgie7jvqqqqleerhteno</td>\n      <td>5</td>\n      <td>75</td>\n      <td>o1et3elqqqqvj7e8tn9e5</td>\n      <td>1</td>\n      <td>5e9nt8e7jvqqqqle3te1o</td>\n      <td>5</td>\n      <td>15</td>\n    </tr>\n    <tr>\n      <th>10</th>\n      <td>7sevenfour5gnine</td>\n      <td>7</td>\n      <td>ening5ruofneves7</td>\n      <td>5</td>\n      <td>75</td>\n      <td>7s7nf4r5gn9e</td>\n      <td>7</td>\n      <td>e9ng5r4fn7s7</td>\n      <td>9</td>\n      <td>79</td>\n    </tr>\n    <tr>\n      <th>11</th>\n      <td>1seven5</td>\n      <td>1</td>\n      <td>5neves1</td>\n      <td>5</td>\n      <td>15</td>\n      <td>1s7n5</td>\n      <td>1</td>\n      <td>5n7s1</td>\n      <td>5</td>\n      <td>15</td>\n    </tr>\n    <tr>\n      <th>12</th>\n      <td>vgxhqfrvr7vfsxqms3</td>\n      <td>7</td>\n      <td>3smqxsfv7rvrfqhxgv</td>\n      <td>3</td>\n      <td>73</td>\n      <td>vgxhqfrvr7vfsxqms3</td>\n      <td>7</td>\n      <td>3smqxsfv7rvrfqhxgv</td>\n      <td>3</td>\n      <td>73</td>\n    </tr>\n    <tr>\n      <th>13</th>\n      <td>twokdkcbhtqxfc87rkgctwo</td>\n      <td>8</td>\n      <td>owtcgkr78cfxqthbckdkowt</td>\n      <td>7</td>\n      <td>87</td>\n      <td>t2okdkcbhtqxfc87rkgct2o</td>\n      <td>2</td>\n      <td>o2tcgkr78cfxqthbckdko2t</td>\n      <td>2</td>\n      <td>22</td>\n    </tr>\n    <tr>\n      <th>14</th>\n      <td>twosix9threernltgbffour</td>\n      <td>9</td>\n      <td>ruoffbgtlnreerht9xisowt</td>\n      <td>9</td>\n      <td>99</td>\n      <td>t2os6x9t3ernltgbff4r</td>\n      <td>2</td>\n      <td>r4ffbgtlnre3t9x6so2t</td>\n      <td>4</td>\n      <td>24</td>\n    </tr>\n    <tr>\n      <th>15</th>\n      <td>npvzzqfb5tbbn4cnt</td>\n      <td>5</td>\n      <td>tnc4nbbt5bfqzzvpn</td>\n      <td>4</td>\n      <td>54</td>\n      <td>npvzzqfb5tbbn4cnt</td>\n      <td>5</td>\n      <td>tnc4nbbt5bfqzzvpn</td>\n      <td>4</td>\n      <td>54</td>\n    </tr>\n    <tr>\n      <th>16</th>\n      <td>jjxlckssjmdkm5szklnq1two</td>\n      <td>5</td>\n      <td>owt1qnlkzs5mkdmjsskclxjj</td>\n      <td>1</td>\n      <td>51</td>\n      <td>jjxlckssjmdkm5szklnq1t2o</td>\n      <td>5</td>\n      <td>o2t1qnlkzs5mkdmjsskclxjj</td>\n      <td>2</td>\n      <td>52</td>\n    </tr>\n    <tr>\n      <th>17</th>\n      <td>lblcscglvseven53251zzcj</td>\n      <td>5</td>\n      <td>jczz15235nevesvlgcsclbl</td>\n      <td>1</td>\n      <td>51</td>\n      <td>lblcscglvs7n53251zzcj</td>\n      <td>7</td>\n      <td>jczz15235n7svlgcsclbl</td>\n      <td>1</td>\n      <td>71</td>\n    </tr>\n    <tr>\n      <th>18</th>\n      <td>threesevenzplpzlqb1</td>\n      <td>1</td>\n      <td>1bqlzplpzneveseerht</td>\n      <td>1</td>\n      <td>11</td>\n      <td>t3es7nzplpzlqb1</td>\n      <td>3</td>\n      <td>1bqlzplpzn7se3t</td>\n      <td>1</td>\n      <td>31</td>\n    </tr>\n    <tr>\n      <th>19</th>\n      <td>threeeightxhrkflkbzp2</td>\n      <td>2</td>\n      <td>2pzbklfkrhxthgieeerht</td>\n      <td>2</td>\n      <td>22</td>\n      <td>t3ee8txhrkflkbzp2</td>\n      <td>3</td>\n      <td>2pzbklfkrhxt8ee3t</td>\n      <td>2</td>\n      <td>32</td>\n    </tr>\n  </tbody>\n</table>\n</div>"
          },
          "metadata": {}
        }
      ]
    },
    {
      "cell_type": "code",
      "source": "df[9].sum()",
      "metadata": {
        "trusted": true
      },
      "execution_count": 11,
      "outputs": [
        {
          "execution_count": 11,
          "output_type": "execute_result",
          "data": {
            "text/plain": "54518"
          },
          "metadata": {}
        }
      ]
    },
    {
      "cell_type": "code",
      "source": "",
      "metadata": {},
      "execution_count": null,
      "outputs": []
    },
    {
      "cell_type": "code",
      "source": "",
      "metadata": {},
      "execution_count": null,
      "outputs": []
    }
  ]
}